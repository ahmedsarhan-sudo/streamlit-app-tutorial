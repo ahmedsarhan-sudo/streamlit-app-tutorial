{
 "cells": [
  {
   "cell_type": "code",
   "execution_count": null,
   "id": "ef3b7e4d",
   "metadata": {},
   "outputs": [],
   "source": []
  },
  {
   "cell_type": "code",
   "execution_count": null,
   "id": "faa29185",
   "metadata": {},
   "outputs": [],
   "source": []
  }
 ],
 "metadata": {
  "language_info": {
   "name": "python"
  }
 },
 "nbformat": 4,
 "nbformat_minor": 5
}
